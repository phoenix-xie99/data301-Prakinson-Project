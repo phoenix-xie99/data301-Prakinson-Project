{
 "cells": [
  {
   "cell_type": "code",
   "execution_count": 1,
   "metadata": {},
   "outputs": [],
   "source": [
    "%matplotlib inline\n",
    " \n",
    "import matplotlib.pyplot as plt\n",
    "import numpy as np\n",
    "import pandas as pd\n",
    "import os\n",
    "import pprint\n",
    "pp = pprint.PrettyPrinter(indent=4)\n",
    "import joblib\n",
    "from skimage.io import imread\n",
    "from skimage.transform import resize\n",
    "from sklearn.linear_model import LogisticRegression"
   ]
  },
  {
   "cell_type": "code",
   "execution_count": 43,
   "metadata": {},
   "outputs": [
    {
     "ename": "ValueError",
     "evalue": "cannot copy sequence with size 4183 to array axis with dimension 1",
     "output_type": "error",
     "traceback": [
      "\u001b[1;31m---------------------------------------------------------------------------\u001b[0m",
      "\u001b[1;31mValueError\u001b[0m                                Traceback (most recent call last)",
      "\u001b[1;32m<ipython-input-43-9b04de7bd98c>\u001b[0m in \u001b[0;36m<module>\u001b[1;34m\u001b[0m\n\u001b[1;32m----> 1\u001b[1;33m \u001b[0mX_train\u001b[0m \u001b[1;33m=\u001b[0m \u001b[0mnp\u001b[0m\u001b[1;33m.\u001b[0m\u001b[0marray\u001b[0m\u001b[1;33m(\u001b[0m\u001b[1;33m[\u001b[0m\u001b[0mdf\u001b[0m\u001b[1;33m,\u001b[0m \u001b[0mdf\u001b[0m\u001b[1;33m,\u001b[0m \u001b[0mdf3\u001b[0m\u001b[1;33m]\u001b[0m\u001b[1;33m)\u001b[0m\u001b[1;33m\u001b[0m\u001b[1;33m\u001b[0m\u001b[0m\n\u001b[0m\u001b[0;32m      2\u001b[0m \u001b[0mX_train\u001b[0m \u001b[1;33m=\u001b[0m \u001b[0mX_train\u001b[0m\u001b[1;33m.\u001b[0m\u001b[0mflatten\u001b[0m\u001b[1;33m(\u001b[0m\u001b[1;33m)\u001b[0m\u001b[1;33m\u001b[0m\u001b[1;33m\u001b[0m\u001b[0m\n\u001b[0;32m      3\u001b[0m \u001b[0my_train\u001b[0m \u001b[1;33m=\u001b[0m \u001b[1;33m[\u001b[0m\u001b[1;36m0\u001b[0m\u001b[1;33m,\u001b[0m \u001b[1;36m0\u001b[0m\u001b[1;33m,\u001b[0m \u001b[1;36m1\u001b[0m\u001b[1;33m]\u001b[0m\u001b[1;33m\u001b[0m\u001b[1;33m\u001b[0m\u001b[0m\n",
      "\u001b[1;31mValueError\u001b[0m: cannot copy sequence with size 4183 to array axis with dimension 1"
     ]
    }
   ],
   "source": [
    "X_train = np.array([df, df, df3])\n",
    "X_train = X_train.flatten()\n",
    "y_train = [0, 0, 1]"
   ]
  },
  {
   "cell_type": "markdown",
   "metadata": {},
   "source": [
    "OK - So what we need to so is preprocess every spiral into a single row of variables - e.g. avg pressure, number of changes in X direction, number of changes in Y direction, number of pen presses, avg azimuth, time taken, avg speed"
   ]
  },
  {
   "cell_type": "code",
   "execution_count": 11,
   "metadata": {},
   "outputs": [],
   "source": [
    "controls = []\n",
    "control_labels = []\n",
    "ills = []\n",
    "ill_labels = []\n",
    "unif_set = {}\n",
    "processed_df = pd.DataFrame(columns = ['C1', 'C2', 'C3', 'C4', 'C5'])"
   ]
  },
  {
   "cell_type": "code",
   "execution_count": 3,
   "metadata": {},
   "outputs": [],
   "source": [
    "for dset in os.listdir('./data/control'):\n",
    "    direc = \"\".join([\"./data/control/\", dset])\n",
    "    df = pd.read_table(direc)\n",
    "    controls.append(df)\n",
    "    control_labels.append(0)\n",
    "\n",
    "for dset in os.listdir('./data/ill'):        \n",
    "    direc = \"\".join([\"./data/ill/\", dset])\n",
    "    df = pd.read_table(direc)\n",
    "    ills.append(df)\n",
    "    ill_labels.append(1)\n",
    "\n",
    "unif_set[\"data\"] = controls+ills\n",
    "unif_set[\"labels\"] = control_labels+ill_labels\n",
    "\n"
   ]
  },
  {
   "cell_type": "code",
   "execution_count": 15,
   "metadata": {},
   "outputs": [],
   "source": [
    "#Import and set up the data\n",
    "for dset in os.listdir('./data/control'):\n",
    "    direc = \"\".join([\"./data/control/\", dset])\n",
    "    df = pd.read_table(direc)\n",
    "    controls.append(df)\n",
    "    control_labels.append(0)\n",
    "\n",
    "for dset in os.listdir('./data/ill'):        \n",
    "    direc = \"\".join([\"./data/ill/\", dset])\n",
    "    df = pd.read_table(direc)\n",
    "    ills.append(df)\n",
    "    ill_labels.append(1)\n",
    "\n",
    "unif_set[\"data\"] = controls+ills\n",
    "unif_set[\"labels\"] = control_labels+ill_labels\n",
    "\n",
    "#Now we've done our imports, we will process the data into a useable format\n",
    "\n",
    "#for dset in unif_set['data']:\n",
    "    \n",
    "    #Speed\n",
    "    \n",
    "    # # of pen releases\n",
    "    \n",
    "    #avg azimuth\n",
    "    \n",
    "    #avg pressure \n",
    "    \n",
    "    #Changes in X direction"
   ]
  },
  {
   "cell_type": "code",
   "execution_count": 8,
   "metadata": {},
   "outputs": [
    {
     "data": {
      "text/plain": [
       "146"
      ]
     },
     "execution_count": 8,
     "metadata": {},
     "output_type": "execute_result"
    }
   ],
   "source": [
    "len(os.listdir(\"./data/control\")) + len(os.listdir(\"./data/ill\"))"
   ]
  },
  {
   "cell_type": "code",
   "execution_count": 6,
   "metadata": {},
   "outputs": [
    {
     "data": {
      "text/plain": [
       "BOSSVS(alphabet=None, anova=False, drop_sum=False, n_bins=4, norm_mean=False,\n",
       "       norm_std=False, numerosity_reduction=True, smooth_idf=False,\n",
       "       strategy='quantile', sublinear_tf=True, use_idf=True, window_size=28,\n",
       "       window_step=1, word_size=4)"
      ]
     },
     "execution_count": 6,
     "metadata": {},
     "output_type": "execute_result"
    }
   ],
   "source": [
    "from pyts.classification import BOSSVS\n",
    "from pyts.datasets import load_gunpoint\n",
    "X_train, X_test, y_train, y_test = load_gunpoint(return_X_y=True)\n",
    "clf = BOSSVS(window_size=28)\n",
    "clf.fit(X_train, y_train)"
   ]
  },
  {
   "cell_type": "code",
   "execution_count": 16,
   "metadata": {},
   "outputs": [
    {
     "data": {
      "text/html": [
       "<div>\n",
       "<style scoped>\n",
       "    .dataframe tbody tr th:only-of-type {\n",
       "        vertical-align: middle;\n",
       "    }\n",
       "\n",
       "    .dataframe tbody tr th {\n",
       "        vertical-align: top;\n",
       "    }\n",
       "\n",
       "    .dataframe thead th {\n",
       "        text-align: right;\n",
       "    }\n",
       "</style>\n",
       "<table border=\"1\" class=\"dataframe\">\n",
       "  <thead>\n",
       "    <tr style=\"text-align: right;\">\n",
       "      <th></th>\n",
       "      <th>1980</th>\n",
       "    </tr>\n",
       "  </thead>\n",
       "  <tbody>\n",
       "    <tr>\n",
       "      <th>0</th>\n",
       "      <td>5310 3728 1845198 1 3280 810 238</td>\n",
       "    </tr>\n",
       "    <tr>\n",
       "      <th>1</th>\n",
       "      <td>5311 3726 1845206 1 3280 810 320</td>\n",
       "    </tr>\n",
       "    <tr>\n",
       "      <th>2</th>\n",
       "      <td>5311 3726 1845213 1 3280 810 302</td>\n",
       "    </tr>\n",
       "    <tr>\n",
       "      <th>3</th>\n",
       "      <td>5312 3725 1845221 1 3280 810 260</td>\n",
       "    </tr>\n",
       "    <tr>\n",
       "      <th>4</th>\n",
       "      <td>5313 3725 1845228 1 3280 810 244</td>\n",
       "    </tr>\n",
       "    <tr>\n",
       "      <th>...</th>\n",
       "      <td>...</td>\n",
       "    </tr>\n",
       "    <tr>\n",
       "      <th>1975</th>\n",
       "      <td>5404 4739 1860065 1 3470 730 737</td>\n",
       "    </tr>\n",
       "    <tr>\n",
       "      <th>1976</th>\n",
       "      <td>5404 4739 1860072 0 3470 730 0</td>\n",
       "    </tr>\n",
       "    <tr>\n",
       "      <th>1977</th>\n",
       "      <td>5404 4742 1860080 0 3460 740 0</td>\n",
       "    </tr>\n",
       "    <tr>\n",
       "      <th>1978</th>\n",
       "      <td>5405 4740 1860087 0 3460 740 0</td>\n",
       "    </tr>\n",
       "    <tr>\n",
       "      <th>1979</th>\n",
       "      <td>I5413 4729 1860095 0 3460 740 0</td>\n",
       "    </tr>\n",
       "  </tbody>\n",
       "</table>\n",
       "<p>1980 rows × 1 columns</p>\n",
       "</div>"
      ],
      "text/plain": [
       "                                  1980\n",
       "0     5310 3728 1845198 1 3280 810 238\n",
       "1     5311 3726 1845206 1 3280 810 320\n",
       "2     5311 3726 1845213 1 3280 810 302\n",
       "3     5312 3725 1845221 1 3280 810 260\n",
       "4     5313 3725 1845228 1 3280 810 244\n",
       "...                                ...\n",
       "1975  5404 4739 1860065 1 3470 730 737\n",
       "1976    5404 4739 1860072 0 3470 730 0\n",
       "1977    5404 4742 1860080 0 3460 740 0\n",
       "1978    5405 4740 1860087 0 3460 740 0\n",
       "1979   I5413 4729 1860095 0 3460 740 0\n",
       "\n",
       "[1980 rows x 1 columns]"
      ]
     },
     "execution_count": 16,
     "metadata": {},
     "output_type": "execute_result"
    }
   ],
   "source": [
    "unif_set[\"data\"][1]"
   ]
  },
  {
   "cell_type": "code",
   "execution_count": null,
   "metadata": {},
   "outputs": [],
   "source": []
  }
 ],
 "metadata": {
  "kernelspec": {
   "display_name": "Python 3",
   "language": "python",
   "name": "python3"
  },
  "language_info": {
   "codemirror_mode": {
    "name": "ipython",
    "version": 3
   },
   "file_extension": ".py",
   "mimetype": "text/x-python",
   "name": "python",
   "nbconvert_exporter": "python",
   "pygments_lexer": "ipython3",
   "version": "3.7.6"
  }
 },
 "nbformat": 4,
 "nbformat_minor": 4
}
